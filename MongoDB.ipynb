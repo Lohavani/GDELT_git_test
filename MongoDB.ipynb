{
 "cells": [
  {
   "cell_type": "markdown",
   "id": "40871a2f",
   "metadata": {},
   "source": [
    "# MongoDB"
   ]
  },
  {
   "cell_type": "markdown",
   "id": "2b789abf",
   "metadata": {},
   "source": [
    "### Developed by Abhinav Sharma\n",
    "#### The file is used to push the generated data to MongoDB database"
   ]
  },
  {
   "cell_type": "markdown",
   "id": "0565e10f",
   "metadata": {},
   "source": [
    "#### Import pymongo"
   ]
  },
  {
   "cell_type": "code",
   "execution_count": 14,
   "id": "56ba6ac6",
   "metadata": {},
   "outputs": [],
   "source": [
    "import warnings\n",
    "warnings.filterwarnings('ignore')\n",
    "import pymongo\n",
    "import pandas as pd\n",
    "import json"
   ]
  },
  {
   "cell_type": "markdown",
   "id": "3576c987",
   "metadata": {},
   "source": [
    "### Connect the mongoDB client"
   ]
  },
  {
   "cell_type": "code",
   "execution_count": 15,
   "id": "82fc15aa",
   "metadata": {},
   "outputs": [],
   "source": [
    "#make a connection to the client\n",
    "client = pymongo.MongoClient(\"mongodb://localhost:27017\")"
   ]
  },
  {
   "cell_type": "markdown",
   "id": "72551adf",
   "metadata": {},
   "source": [
    "### Create the GDELT Database"
   ]
  },
  {
   "cell_type": "code",
   "execution_count": 16,
   "id": "3d347e25",
   "metadata": {},
   "outputs": [
    {
     "data": {
      "text/plain": [
       "['admin', 'config', 'local']"
      ]
     },
     "execution_count": 16,
     "metadata": {},
     "output_type": "execute_result"
    }
   ],
   "source": [
    "#get the list of all the database names\n",
    "client.list_database_names()"
   ]
  },
  {
   "cell_type": "code",
   "execution_count": 17,
   "id": "ffc0e312",
   "metadata": {},
   "outputs": [],
   "source": [
    "#create a database named GDELT\n",
    "db = client['GDELT']"
   ]
  },
  {
   "cell_type": "code",
   "execution_count": 18,
   "id": "c14158d6",
   "metadata": {},
   "outputs": [
    {
     "data": {
      "text/plain": [
       "Database(MongoClient(host=['localhost:27017'], document_class=dict, tz_aware=False, connect=True), 'GDELT')"
      ]
     },
     "execution_count": 18,
     "metadata": {},
     "output_type": "execute_result"
    }
   ],
   "source": [
    "db"
   ]
  },
  {
   "cell_type": "markdown",
   "id": "7e3f2f3e",
   "metadata": {},
   "source": [
    "### Insert all the data downloaded from Google BigQuery with new generated feature to a new collection in the database"
   ]
  },
  {
   "cell_type": "code",
   "execution_count": 19,
   "id": "18c997ec",
   "metadata": {},
   "outputs": [],
   "source": [
    "col_1 = db['Balanced_Data_All']"
   ]
  },
  {
   "cell_type": "code",
   "execution_count": 20,
   "id": "b0ae8c67",
   "metadata": {},
   "outputs": [],
   "source": [
    "#read the data to a dataframe\n",
    "data_1 = pd.read_csv(r\".\\Balanced_Data_All.csv\")"
   ]
  },
  {
   "cell_type": "code",
   "execution_count": 21,
   "id": "40f37584",
   "metadata": {},
   "outputs": [],
   "source": [
    "final_1 = json.loads(data_1.to_json(orient='records'))"
   ]
  },
  {
   "cell_type": "code",
   "execution_count": 22,
   "id": "bed99f66",
   "metadata": {},
   "outputs": [
    {
     "name": "stdout",
     "output_type": "stream",
     "text": [
      "CPU times: total: 57.4 s\n",
      "Wall time: 1min 42s\n"
     ]
    },
    {
     "data": {
      "text/plain": [
       "<pymongo.results.InsertManyResult at 0x20a42bbffd0>"
      ]
     },
     "execution_count": 22,
     "metadata": {},
     "output_type": "execute_result"
    }
   ],
   "source": [
    "%%time\n",
    "col_1.insert_many(final_1)"
   ]
  },
  {
   "cell_type": "code",
   "execution_count": 23,
   "id": "86c5c564",
   "metadata": {},
   "outputs": [
    {
     "data": {
      "text/plain": [
       "['Balanced_Data_All']"
      ]
     },
     "execution_count": 23,
     "metadata": {},
     "output_type": "execute_result"
    }
   ],
   "source": [
    "db.list_collection_names()"
   ]
  },
  {
   "cell_type": "markdown",
   "id": "c05bfb84",
   "metadata": {},
   "source": [
    "#### Push the balanced dataset with significant features "
   ]
  },
  {
   "cell_type": "code",
   "execution_count": 24,
   "id": "e67c3ff7",
   "metadata": {},
   "outputs": [],
   "source": [
    "col_2 = db['Balanced_Data_No_Protest_Code_Significant']"
   ]
  },
  {
   "cell_type": "code",
   "execution_count": 25,
   "id": "15a38dc3",
   "metadata": {},
   "outputs": [],
   "source": [
    "#read the data to a dataframe\n",
    "data_2 = pd.read_csv(r\".\\Balanced_Data_No_Protest_Code_Significant.csv\")"
   ]
  },
  {
   "cell_type": "code",
   "execution_count": 26,
   "id": "1119b125",
   "metadata": {},
   "outputs": [],
   "source": [
    "final_2 = json.loads(data_2.to_json(orient='records'))"
   ]
  },
  {
   "cell_type": "code",
   "execution_count": 27,
   "id": "d9df9e50",
   "metadata": {},
   "outputs": [
    {
     "name": "stdout",
     "output_type": "stream",
     "text": [
      "CPU times: total: 22.4 s\n",
      "Wall time: 56.8 s\n"
     ]
    },
    {
     "data": {
      "text/plain": [
       "<pymongo.results.InsertManyResult at 0x20a42bc0430>"
      ]
     },
     "execution_count": 27,
     "metadata": {},
     "output_type": "execute_result"
    }
   ],
   "source": [
    "%%time\n",
    "col_2.insert_many(final_2)"
   ]
  },
  {
   "cell_type": "code",
   "execution_count": 28,
   "id": "c6f56da7",
   "metadata": {},
   "outputs": [
    {
     "data": {
      "text/plain": [
       "['Balanced_Data_All', 'Balanced_Data_No_Protest_Code_Significant']"
      ]
     },
     "execution_count": 28,
     "metadata": {},
     "output_type": "execute_result"
    }
   ],
   "source": [
    "db.list_collection_names()"
   ]
  }
 ],
 "metadata": {
  "kernelspec": {
   "display_name": "Python 3 (ipykernel)",
   "language": "python",
   "name": "python3"
  },
  "language_info": {
   "codemirror_mode": {
    "name": "ipython",
    "version": 3
   },
   "file_extension": ".py",
   "mimetype": "text/x-python",
   "name": "python",
   "nbconvert_exporter": "python",
   "pygments_lexer": "ipython3",
   "version": "3.9.12"
  }
 },
 "nbformat": 4,
 "nbformat_minor": 5
}
