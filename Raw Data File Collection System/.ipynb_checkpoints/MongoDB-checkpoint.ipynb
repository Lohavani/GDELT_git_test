{
 "cells": [
  {
   "cell_type": "markdown",
   "id": "40871a2f",
   "metadata": {},
   "source": [
    "# MongoDB"
   ]
  },
  {
   "cell_type": "markdown",
   "id": "2b789abf",
   "metadata": {},
   "source": [
    "### Developed by Abhinav Sharma\n",
    "#### The code that is used to push the generated data to MongoDB"
   ]
  },
  {
   "cell_type": "markdown",
   "id": "0565e10f",
   "metadata": {},
   "source": [
    "#### Import pymongo"
   ]
  },
  {
   "cell_type": "code",
   "execution_count": 14,
   "id": "56ba6ac6",
   "metadata": {},
   "outputs": [],
   "source": [
    "import warnings\n",
    "warnings.filterwarnings('ignore')\n",
    "import pymongo\n",
    "import pandas as pd\n",
    "import json"
   ]
  },
  {
   "cell_type": "markdown",
   "id": "3576c987",
   "metadata": {},
   "source": [
    "### Connect the mongoDB client"
   ]
  },
  {
   "cell_type": "code",
   "execution_count": 15,
   "id": "82fc15aa",
   "metadata": {},
   "outputs": [],
   "source": [
    "#make a connection to the client\n",
    "client = pymongo.MongoClient(\"mongodb://localhost:27017\")"
   ]
  },
  {
   "cell_type": "markdown",
   "id": "72551adf",
   "metadata": {},
   "source": [
    "### Create the GDELT Database"
   ]
  },
  {
   "cell_type": "code",
   "execution_count": 16,
   "id": "3d347e25",
   "metadata": {},
   "outputs": [
    {
     "data": {
      "text/plain": [
       "['admin', 'config', 'local']"
      ]
     },
     "execution_count": 16,
     "metadata": {},
     "output_type": "execute_result"
    }
   ],
   "source": [
    "#get the list of all the database names\n",
    "client.list_database_names()"
   ]
  },
  {
   "cell_type": "code",
   "execution_count": 17,
   "id": "ffc0e312",
   "metadata": {},
   "outputs": [],
   "source": [
    "#create a database named GDELT\n",
    "db = client['GDELT']"
   ]
  },
  {
   "cell_type": "code",
   "execution_count": 18,
   "id": "c14158d6",
   "metadata": {},
   "outputs": [
    {
     "data": {
      "text/plain": [
       "Database(MongoClient(host=['localhost:27017'], document_class=dict, tz_aware=False, connect=True), 'GDELT')"
      ]
     },
     "execution_count": 18,
     "metadata": {},
     "output_type": "execute_result"
    }
   ],
   "source": [
    "db"
   ]
  },
  {
   "cell_type": "markdown",
   "id": "7e3f2f3e",
   "metadata": {},
   "source": [
    "### Insert all the data downloaded from Google BigQuery with new generated feature to a new collection in the database"
   ]
  },
  {
   "cell_type": "code",
   "execution_count": 19,
   "id": "18c997ec",
   "metadata": {},
   "outputs": [],
   "source": [
    "col_1 = db['Balanced_Data_All']"
   ]
  },
  {
   "cell_type": "code",
   "execution_count": 20,
   "id": "b0ae8c67",
   "metadata": {},
   "outputs": [],
   "source": [
    "#read the data to a dataframe\n",
    "data_1 = pd.read_csv(r\".\\Balanced_Data_All.csv\")"
   ]
  },
  {
   "cell_type": "code",
   "execution_count": 21,
   "id": "40f37584",
   "metadata": {},
   "outputs": [],
   "source": [
    "final_1 = json.loads(data_1.to_json(orient='records'))"
   ]
  },
  {
   "cell_type": "code",
   "execution_count": 22,
   "id": "bed99f66",
   "metadata": {},
   "outputs": [
    {
     "name": "stdout",
     "output_type": "stream",
     "text": [
      "CPU times: total: 57.4 s\n",
      "Wall time: 1min 42s\n"
     ]
    },
    {
     "data": {
      "text/plain": [
       "<pymongo.results.InsertManyResult at 0x20a42bbffd0>"
      ]
     },
     "execution_count": 22,
     "metadata": {},
     "output_type": "execute_result"
    }
   ],
   "source": [
    "%%time\n",
    "col_1.insert_many(final_1)"
   ]
  },
  {
   "cell_type": "code",
   "execution_count": 23,
   "id": "86c5c564",
   "metadata": {},
   "outputs": [
    {
     "data": {
      "text/plain": [
       "['Balanced_Data_All']"
      ]
     },
     "execution_count": 23,
     "metadata": {},
     "output_type": "execute_result"
    }
   ],
   "source": [
    "db.list_collection_names()"
   ]
  },
  {
   "cell_type": "markdown",
   "id": "c05bfb84",
   "metadata": {},
   "source": [
    "#### Push the balanced dataset with significant features "
   ]
  },
  {
   "cell_type": "code",
   "execution_count": 24,
   "id": "e67c3ff7",
   "metadata": {},
   "outputs": [],
   "source": [
    "col_2 = db['Balanced_Data_No_Protest_Code_Significant']"
   ]
  },
  {
   "cell_type": "code",
   "execution_count": 25,
   "id": "15a38dc3",
   "metadata": {},
   "outputs": [],
   "source": [
    "#read the data to a dataframe\n",
    "data_2 = pd.read_csv(r\".\\Balanced_Data_No_Protest_Code_Significant.csv\")"
   ]
  },
  {
   "cell_type": "code",
   "execution_count": 26,
   "id": "1119b125",
   "metadata": {},
   "outputs": [],
   "source": [
    "final_2 = json.loads(data_2.to_json(orient='records'))"
   ]
  },
  {
   "cell_type": "code",
   "execution_count": 27,
   "id": "d9df9e50",
   "metadata": {},
   "outputs": [
    {
     "name": "stdout",
     "output_type": "stream",
     "text": [
      "CPU times: total: 22.4 s\n",
      "Wall time: 56.8 s\n"
     ]
    },
    {
     "data": {
      "text/plain": [
       "<pymongo.results.InsertManyResult at 0x20a42bc0430>"
      ]
     },
     "execution_count": 27,
     "metadata": {},
     "output_type": "execute_result"
    }
   ],
   "source": [
    "%%time\n",
    "col_2.insert_many(final_2)"
   ]
  },
  {
   "cell_type": "code",
   "execution_count": 28,
   "id": "c6f56da7",
   "metadata": {},
   "outputs": [
    {
     "data": {
      "text/plain": [
       "['Balanced_Data_All', 'Balanced_Data_No_Protest_Code_Significant']"
      ]
     },
     "execution_count": 28,
     "metadata": {},
     "output_type": "execute_result"
    }
   ],
   "source": [
    "db.list_collection_names()"
   ]
  },
  {
   "cell_type": "code",
   "execution_count": 29,
   "id": "0b4df68f",
   "metadata": {},
   "outputs": [
    {
     "ename": "AttributeError",
     "evalue": "'Cursor' object has no attribute 'pretty'",
     "output_type": "error",
     "traceback": [
      "\u001b[1;31m---------------------------------------------------------------------------\u001b[0m",
      "\u001b[1;31mAttributeError\u001b[0m                            Traceback (most recent call last)",
      "Input \u001b[1;32mIn [29]\u001b[0m, in \u001b[0;36m<cell line: 1>\u001b[1;34m()\u001b[0m\n\u001b[1;32m----> 1\u001b[0m \u001b[43mdb\u001b[49m\u001b[38;5;241;43m.\u001b[39;49m\u001b[43mBalanced_Data_No_Protest_Code_Significant\u001b[49m\u001b[38;5;241;43m.\u001b[39;49m\u001b[43mfind\u001b[49m\u001b[43m(\u001b[49m\u001b[43m)\u001b[49m\u001b[38;5;241;43m.\u001b[39;49m\u001b[43mpretty\u001b[49m()\n",
      "\u001b[1;31mAttributeError\u001b[0m: 'Cursor' object has no attribute 'pretty'"
     ]
    }
   ],
   "source": [
    "db.Balanced_Data_No_Protest_Code_Significant.find().pretty()"
   ]
  },
  {
   "cell_type": "code",
   "execution_count": null,
   "id": "f2132992",
   "metadata": {},
   "outputs": [],
   "source": []
  },
  {
   "cell_type": "code",
   "execution_count": null,
   "id": "d0d8638c",
   "metadata": {},
   "outputs": [],
   "source": []
  },
  {
   "cell_type": "markdown",
   "id": "fc7a8caa",
   "metadata": {},
   "source": [
    "### Print the list of Database present in the MongoDB"
   ]
  },
  {
   "cell_type": "markdown",
   "id": "6fe97a0a",
   "metadata": {},
   "source": [
    "### Create a new collection"
   ]
  },
  {
   "cell_type": "code",
   "execution_count": 10,
   "id": "ed6be282",
   "metadata": {},
   "outputs": [],
   "source": [
    "new_col = db[\"test_abhi\"]"
   ]
  },
  {
   "cell_type": "markdown",
   "id": "0f1ed907",
   "metadata": {},
   "source": [
    "### Check the list of collections in the database "
   ]
  },
  {
   "cell_type": "code",
   "execution_count": 12,
   "id": "f58a051e",
   "metadata": {},
   "outputs": [
    {
     "name": "stdout",
     "output_type": "stream",
     "text": [
      "['test gd']\n"
     ]
    }
   ],
   "source": [
    "print(db.list_collection_names())"
   ]
  },
  {
   "cell_type": "markdown",
   "id": "ce660706",
   "metadata": {},
   "source": [
    "### Read data and insert into a collection"
   ]
  },
  {
   "cell_type": "code",
   "execution_count": 15,
   "id": "69d88f43",
   "metadata": {},
   "outputs": [],
   "source": [
    "data = pd.read_csv(r\"C:\\Users\\Abhinav\\Desktop\\Training_data.csv\")"
   ]
  },
  {
   "cell_type": "code",
   "execution_count": 18,
   "id": "c7d7b112",
   "metadata": {},
   "outputs": [],
   "source": [
    "payload = json.loads(data.to_json(orient='records'))"
   ]
  },
  {
   "cell_type": "code",
   "execution_count": 20,
   "id": "d5e1f3eb",
   "metadata": {},
   "outputs": [
    {
     "data": {
      "text/plain": [
       "<pymongo.results.InsertManyResult at 0x1ab46975520>"
      ]
     },
     "execution_count": 20,
     "metadata": {},
     "output_type": "execute_result"
    }
   ],
   "source": [
    "new_col.insert_many(payload)"
   ]
  },
  {
   "cell_type": "markdown",
   "id": "d857b7e2",
   "metadata": {},
   "source": [
    "### Check if the data has been added"
   ]
  },
  {
   "cell_type": "code",
   "execution_count": 21,
   "id": "cd2b8922",
   "metadata": {},
   "outputs": [
    {
     "name": "stdout",
     "output_type": "stream",
     "text": [
      "['test_abhi', 'test gd']\n"
     ]
    }
   ],
   "source": [
    "print(db.list_collection_names())"
   ]
  },
  {
   "cell_type": "markdown",
   "id": "69da41c2",
   "metadata": {},
   "source": [
    "### MongoDB atlas"
   ]
  },
  {
   "cell_type": "code",
   "execution_count": 28,
   "id": "c97c76e8",
   "metadata": {},
   "outputs": [
    {
     "ename": "ConfigurationError",
     "evalue": "The \"dnspython\" module must be installed to use mongodb+srv:// URIs. To fix this error install pymongo with the srv extra:\n C:\\ProgramData\\Anaconda3\\python.exe -m pip install \"pymongo[srv]\"",
     "output_type": "error",
     "traceback": [
      "\u001b[1;31m---------------------------------------------------------------------------\u001b[0m",
      "\u001b[1;31mConfigurationError\u001b[0m                        Traceback (most recent call last)",
      "Input \u001b[1;32mIn [28]\u001b[0m, in \u001b[0;36m<cell line: 1>\u001b[1;34m()\u001b[0m\n\u001b[1;32m----> 1\u001b[0m client_2 \u001b[38;5;241m=\u001b[39m \u001b[43mpymongo\u001b[49m\u001b[38;5;241;43m.\u001b[39;49m\u001b[43mMongoClient\u001b[49m\u001b[43m(\u001b[49m\u001b[38;5;124;43m\"\u001b[39;49m\u001b[38;5;124;43mmongodb+srv://abhinav:<abhinav1234>@cluster0.w8vxg.mongodb.net/?retryWrites=true&w=majority\u001b[39;49m\u001b[38;5;124;43m\"\u001b[39;49m\u001b[43m)\u001b[49m\n",
      "File \u001b[1;32m~\\AppData\\Roaming\\Python\\Python39\\site-packages\\pymongo\\mongo_client.py:704\u001b[0m, in \u001b[0;36mMongoClient.__init__\u001b[1;34m(self, host, port, document_class, tz_aware, connect, type_registry, **kwargs)\u001b[0m\n\u001b[0;32m    700\u001b[0m \u001b[38;5;28;01mif\u001b[39;00m timeout \u001b[38;5;129;01mis\u001b[39;00m \u001b[38;5;129;01mnot\u001b[39;00m \u001b[38;5;28;01mNone\u001b[39;00m:\n\u001b[0;32m    701\u001b[0m     timeout \u001b[38;5;241m=\u001b[39m common\u001b[38;5;241m.\u001b[39mvalidate_timeout_or_none_or_zero(\n\u001b[0;32m    702\u001b[0m         keyword_opts\u001b[38;5;241m.\u001b[39mcased_key(\u001b[38;5;124m\"\u001b[39m\u001b[38;5;124mconnecttimeoutms\u001b[39m\u001b[38;5;124m\"\u001b[39m), timeout\n\u001b[0;32m    703\u001b[0m     )\n\u001b[1;32m--> 704\u001b[0m res \u001b[38;5;241m=\u001b[39m \u001b[43muri_parser\u001b[49m\u001b[38;5;241;43m.\u001b[39;49m\u001b[43mparse_uri\u001b[49m\u001b[43m(\u001b[49m\n\u001b[0;32m    705\u001b[0m \u001b[43m    \u001b[49m\u001b[43mentity\u001b[49m\u001b[43m,\u001b[49m\n\u001b[0;32m    706\u001b[0m \u001b[43m    \u001b[49m\u001b[43mport\u001b[49m\u001b[43m,\u001b[49m\n\u001b[0;32m    707\u001b[0m \u001b[43m    \u001b[49m\u001b[43mvalidate\u001b[49m\u001b[38;5;241;43m=\u001b[39;49m\u001b[38;5;28;43;01mTrue\u001b[39;49;00m\u001b[43m,\u001b[49m\n\u001b[0;32m    708\u001b[0m \u001b[43m    \u001b[49m\u001b[43mwarn\u001b[49m\u001b[38;5;241;43m=\u001b[39;49m\u001b[38;5;28;43;01mTrue\u001b[39;49;00m\u001b[43m,\u001b[49m\n\u001b[0;32m    709\u001b[0m \u001b[43m    \u001b[49m\u001b[43mnormalize\u001b[49m\u001b[38;5;241;43m=\u001b[39;49m\u001b[38;5;28;43;01mFalse\u001b[39;49;00m\u001b[43m,\u001b[49m\n\u001b[0;32m    710\u001b[0m \u001b[43m    \u001b[49m\u001b[43mconnect_timeout\u001b[49m\u001b[38;5;241;43m=\u001b[39;49m\u001b[43mtimeout\u001b[49m\u001b[43m,\u001b[49m\n\u001b[0;32m    711\u001b[0m \u001b[43m    \u001b[49m\u001b[43msrv_service_name\u001b[49m\u001b[38;5;241;43m=\u001b[39;49m\u001b[43msrv_service_name\u001b[49m\u001b[43m,\u001b[49m\n\u001b[0;32m    712\u001b[0m \u001b[43m    \u001b[49m\u001b[43msrv_max_hosts\u001b[49m\u001b[38;5;241;43m=\u001b[39;49m\u001b[43msrv_max_hosts\u001b[49m\u001b[43m,\u001b[49m\n\u001b[0;32m    713\u001b[0m \u001b[43m\u001b[49m\u001b[43m)\u001b[49m\n\u001b[0;32m    714\u001b[0m seeds\u001b[38;5;241m.\u001b[39mupdate(res[\u001b[38;5;124m\"\u001b[39m\u001b[38;5;124mnodelist\u001b[39m\u001b[38;5;124m\"\u001b[39m])\n\u001b[0;32m    715\u001b[0m username \u001b[38;5;241m=\u001b[39m res[\u001b[38;5;124m\"\u001b[39m\u001b[38;5;124musername\u001b[39m\u001b[38;5;124m\"\u001b[39m] \u001b[38;5;129;01mor\u001b[39;00m username\n",
      "File \u001b[1;32m~\\AppData\\Roaming\\Python\\Python39\\site-packages\\pymongo\\uri_parser.py:469\u001b[0m, in \u001b[0;36mparse_uri\u001b[1;34m(uri, default_port, validate, warn, normalize, connect_timeout, srv_service_name, srv_max_hosts)\u001b[0m\n\u001b[0;32m    467\u001b[0m \u001b[38;5;28;01mif\u001b[39;00m \u001b[38;5;129;01mnot\u001b[39;00m _HAVE_DNSPYTHON:\n\u001b[0;32m    468\u001b[0m     python_path \u001b[38;5;241m=\u001b[39m sys\u001b[38;5;241m.\u001b[39mexecutable \u001b[38;5;129;01mor\u001b[39;00m \u001b[38;5;124m\"\u001b[39m\u001b[38;5;124mpython\u001b[39m\u001b[38;5;124m\"\u001b[39m\n\u001b[1;32m--> 469\u001b[0m     \u001b[38;5;28;01mraise\u001b[39;00m ConfigurationError(\n\u001b[0;32m    470\u001b[0m         \u001b[38;5;124m'\u001b[39m\u001b[38;5;124mThe \u001b[39m\u001b[38;5;124m\"\u001b[39m\u001b[38;5;124mdnspython\u001b[39m\u001b[38;5;124m\"\u001b[39m\u001b[38;5;124m module must be \u001b[39m\u001b[38;5;124m'\u001b[39m\n\u001b[0;32m    471\u001b[0m         \u001b[38;5;124m\"\u001b[39m\u001b[38;5;124minstalled to use mongodb+srv:// URIs. \u001b[39m\u001b[38;5;124m\"\u001b[39m\n\u001b[0;32m    472\u001b[0m         \u001b[38;5;124m\"\u001b[39m\u001b[38;5;124mTo fix this error install pymongo with the srv extra:\u001b[39m\u001b[38;5;130;01m\\n\u001b[39;00m\u001b[38;5;124m \u001b[39m\u001b[38;5;124m\"\u001b[39m\n\u001b[0;32m    473\u001b[0m         \u001b[38;5;124m'\u001b[39m\u001b[38;5;132;01m%s\u001b[39;00m\u001b[38;5;124m -m pip install \u001b[39m\u001b[38;5;124m\"\u001b[39m\u001b[38;5;124mpymongo[srv]\u001b[39m\u001b[38;5;124m\"\u001b[39m\u001b[38;5;124m'\u001b[39m \u001b[38;5;241m%\u001b[39m (python_path)\n\u001b[0;32m    474\u001b[0m     )\n\u001b[0;32m    475\u001b[0m is_srv \u001b[38;5;241m=\u001b[39m \u001b[38;5;28;01mTrue\u001b[39;00m\n\u001b[0;32m    476\u001b[0m scheme_free \u001b[38;5;241m=\u001b[39m uri[SRV_SCHEME_LEN:]\n",
      "\u001b[1;31mConfigurationError\u001b[0m: The \"dnspython\" module must be installed to use mongodb+srv:// URIs. To fix this error install pymongo with the srv extra:\n C:\\ProgramData\\Anaconda3\\python.exe -m pip install \"pymongo[srv]\""
     ]
    }
   ],
   "source": [
    "client_2 = pymongo.MongoClient(\"mongodb+srv://abhinav:<abhinav1234>@cluster0.w8vxg.mongodb.net/?retryWrites=true&w=majority\")"
   ]
  },
  {
   "cell_type": "code",
   "execution_count": null,
   "id": "54141f1a",
   "metadata": {},
   "outputs": [],
   "source": [
    "db = client.test"
   ]
  }
 ],
 "metadata": {
  "kernelspec": {
   "display_name": "Python 3 (ipykernel)",
   "language": "python",
   "name": "python3"
  },
  "language_info": {
   "codemirror_mode": {
    "name": "ipython",
    "version": 3
   },
   "file_extension": ".py",
   "mimetype": "text/x-python",
   "name": "python",
   "nbconvert_exporter": "python",
   "pygments_lexer": "ipython3",
   "version": "3.9.12"
  }
 },
 "nbformat": 4,
 "nbformat_minor": 5
}
